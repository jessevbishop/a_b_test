{
 "cells": [
  {
   "cell_type": "markdown",
   "metadata": {},
   "source": [
    "# A_B Test"
   ]
  },
  {
   "cell_type": "code",
   "execution_count": 1,
   "metadata": {
    "collapsed": true
   },
   "outputs": [],
   "source": [
    "## Python packages - you may have to pip install sqlalchemy, sqlalchemy_utils, and psycopg2.\n",
    "from sqlalchemy import create_engine"
   ]
  },
  {
   "cell_type": "code",
   "execution_count": 2,
   "metadata": {
    "collapsed": true
   },
   "outputs": [],
   "source": [
    "from sqlalchemy_utils import database_exists, create_database\n",
    "import psycopg2\n",
    "import pandas as pd"
   ]
  },
  {
   "cell_type": "code",
   "execution_count": 3,
   "metadata": {
    "collapsed": true
   },
   "outputs": [],
   "source": [
    "#In Python: Define a database name (we're using a dataset on births, so I call it \n",
    "# birth_db), and your username for your computer (CHANGE IT BELOW). \n",
    "dbname = 'ab_db'\n",
    "username = 'bellman'"
   ]
  },
  {
   "cell_type": "markdown",
   "metadata": {},
   "source": [
    "## Start your postgresql server\n",
    "\n",
    "**There are multiple ways to launch a postgres server:**\n",
    "\n",
    "1) Launching Postres.app from LaunchPad will automatically start a server.  In Mac OS, you should see an elephant icon in the upper right corner.\n",
    "\n",
    "2) Launch from the terminal with the following command (CHANGE USER NAME):<br>\n",
    "\n",
    "    postgres -D /Users/rockson/Library/Application\\ Support/Postgres/var-9.6\n",
    "    \n",
    "3) Have launchd start postgresql at login:<br>\n",
    "\n",
    "    ln -sfv /usr/local/opt/postgresql/*.plist ~/Library/LaunchAgents\n",
    "\n",
    "Then to load postgresql now: <br>\n",
    "\n",
    "    launchctl load ~/Library/LaunchAgents/homebrew.mxcl.postgresql.plist"
   ]
  },
  {
   "cell_type": "markdown",
   "metadata": {},
   "source": [
    "## Create a database"
   ]
  },
  {
   "cell_type": "code",
   "execution_count": 4,
   "metadata": {
    "collapsed": false
   },
   "outputs": [
    {
     "name": "stdout",
     "output_type": "stream",
     "text": [
      "postgres://bellman@localhost/ab_db\n"
     ]
    }
   ],
   "source": [
    "## 'engine' is a connection to a database\n",
    "## Here, we're using postgres, but sqlalchemy can connect to other things too.\n",
    "engine = create_engine('postgres://%s@localhost/%s'%(username,dbname))\n",
    "print (engine.url)"
   ]
  },
  {
   "cell_type": "code",
   "execution_count": 5,
   "metadata": {
    "collapsed": false
   },
   "outputs": [
    {
     "name": "stdout",
     "output_type": "stream",
     "text": [
      "True\n"
     ]
    }
   ],
   "source": [
    "## create a database (if it doesn't exist)\n",
    "if not database_exists(engine.url):\n",
    "    create_database(engine.url)\n",
    "print(database_exists(engine.url))\n"
   ]
  },
  {
   "cell_type": "code",
   "execution_count": null,
   "metadata": {
    "collapsed": true
   },
   "outputs": [],
   "source": [
    "# read a database from CSV and load it into a pandas dataframe\n",
    "#investment_data = pd.DataFrame.from_csv('Crunchbase_Startup_Investment_Data_clean.csv')\n",
    "ab = pd.read_csv('test_r',sep=None, thousands=',', engine='python')"
   ]
  },
  {
   "cell_type": "code",
   "execution_count": null,
   "metadata": {
    "collapsed": true
   },
   "outputs": [],
   "source": [
    "## insert data into database from Python (proof of concept - this won't be useful for big data, of course)\n",
    "investment_data.to_sql('investment_data_table', engine, if_exists='replace')"
   ]
  },
  {
   "cell_type": "markdown",
   "metadata": {},
   "source": [
    "The above line (to_sql) is doing a lot of heavy lifting.  It's reading a dataframe, it's creating a table, and adding the data to the table.  So ** SQLAlchemy is quite useful! **"
   ]
  },
  {
   "cell_type": "markdown",
   "metadata": {},
   "source": [
    "### How this works outside of python:\n",
    "\n",
    "** open up the PostgreSQL app, click on the \"Open psql\" button in the bottom right corner, ** <br>\n",
    "or alternatively type <br>\n",
    "\n",
    "    psql -h localhost\n",
    "\n",
    "into the command line  "
   ]
  },
  {
   "cell_type": "code",
   "execution_count": null,
   "metadata": {
    "collapsed": true
   },
   "outputs": [],
   "source": [
    "## Now try the same queries, but in python!\n",
    "\n",
    "# connect:\n",
    "con = None\n",
    "con = psycopg2.connect(database = dbname, user = username)\n",
    "\n",
    "# query:\n",
    "sql_query = \"\"\"\n",
    "SELECT * FROM investment_data_table;\n",
    "\"\"\"\n",
    "investment_data_from_sql = pd.read_sql_query(sql_query,con)\n",
    "pd.set_option('display.max_columns', None)\n",
    "investment_data_from_sql.head()"
   ]
  },
  {
   "cell_type": "code",
   "execution_count": null,
   "metadata": {
    "collapsed": true
   },
   "outputs": [],
   "source": [
    "investment_data.iloc[10000:10100]\n"
   ]
  },
  {
   "cell_type": "code",
   "execution_count": null,
   "metadata": {
    "collapsed": true
   },
   "outputs": [],
   "source": [
    "list(investment_data.columns)"
   ]
  },
  {
   "cell_type": "code",
   "execution_count": null,
   "metadata": {
    "collapsed": true
   },
   "outputs": [],
   "source": [
    "investment_data_types = investment_data.dtypes\n",
    "investment_data_types"
   ]
  },
  {
   "cell_type": "markdown",
   "metadata": {},
   "source": [
    "Note that dates and 'raised_amount_total' are wrong types"
   ]
  },
  {
   "cell_type": "markdown",
   "metadata": {},
   "source": [
    "First, fix dates:"
   ]
  },
  {
   "cell_type": "code",
   "execution_count": null,
   "metadata": {
    "collapsed": true
   },
   "outputs": [],
   "source": [
    "#test parser.parse function\n",
    "from dateutil import parser\n",
    "dt = parser.parse('1986-03-19')\n",
    "dt"
   ]
  },
  {
   "cell_type": "markdown",
   "metadata": {},
   "source": [
    "Use parser to change 'funded_at' to date"
   ]
  },
  {
   "cell_type": "code",
   "execution_count": null,
   "metadata": {
    "collapsed": true
   },
   "outputs": [],
   "source": [
    "investment_data['funded_at'] = investment_data['funded_at'].apply(parser.parse)"
   ]
  },
  {
   "cell_type": "code",
   "execution_count": null,
   "metadata": {
    "collapsed": true
   },
   "outputs": [],
   "source": [
    "investment_data_types = investment_data.dtypes\n",
    "investment_data_types['funded_at']"
   ]
  },
  {
   "cell_type": "code",
   "execution_count": null,
   "metadata": {
    "collapsed": true
   },
   "outputs": [],
   "source": [
    "investment_data['funded_month']=investment_data['funded_at'].dt.month\n",
    "investment_data_types = investment_data.dtypes\n",
    "investment_data_types['funded_month']"
   ]
  },
  {
   "cell_type": "code",
   "execution_count": null,
   "metadata": {
    "collapsed": true
   },
   "outputs": [],
   "source": [
    "investment_data['funded_quarter']=investment_data.funded_at.dt.to_period('Q')\n",
    "investment_data_types = investment_data.dtypes\n",
    "investment_data_types['funded_quarter']"
   ]
  },
  {
   "cell_type": "markdown",
   "metadata": {},
   "source": [
    "Fix 'raised_amount_total'"
   ]
  },
  {
   "cell_type": "code",
   "execution_count": null,
   "metadata": {
    "collapsed": true
   },
   "outputs": [],
   "source": [
    "investment_data['raised_amount_total_usd'] = pd.to_numeric(investment_data.raised_amount_total_usd, errors = 'coerce')"
   ]
  },
  {
   "cell_type": "code",
   "execution_count": null,
   "metadata": {
    "collapsed": true
   },
   "outputs": [],
   "source": [
    "investment_data.dtypes"
   ]
  },
  {
   "cell_type": "code",
   "execution_count": null,
   "metadata": {
    "collapsed": true
   },
   "outputs": [],
   "source": []
  },
  {
   "cell_type": "code",
   "execution_count": null,
   "metadata": {
    "collapsed": true
   },
   "outputs": [],
   "source": [
    "invest_sample = investment_data.iloc[5000:7000]"
   ]
  },
  {
   "cell_type": "code",
   "execution_count": null,
   "metadata": {
    "collapsed": true
   },
   "outputs": [],
   "source": [
    "import seaborn as sns"
   ]
  },
  {
   "cell_type": "code",
   "execution_count": null,
   "metadata": {
    "collapsed": true
   },
   "outputs": [],
   "source": [
    "import matplotlib.pyplot as plt\n",
    "%matplotlib inline"
   ]
  },
  {
   "cell_type": "code",
   "execution_count": null,
   "metadata": {
    "collapsed": true
   },
   "outputs": [],
   "source": [
    "plt.hist(investment_data.funded_year, bins=20)"
   ]
  },
  {
   "cell_type": "code",
   "execution_count": null,
   "metadata": {
    "collapsed": true
   },
   "outputs": [],
   "source": [
    "sns.distplot(investment_data['funded_year'])"
   ]
  },
  {
   "cell_type": "code",
   "execution_count": null,
   "metadata": {
    "collapsed": true
   },
   "outputs": [],
   "source": [
    "a = investment_data['company_category_list'].value_counts()\n",
    "a.sort_values(ascending=False).head(20)"
   ]
  },
  {
   "cell_type": "markdown",
   "metadata": {
    "collapsed": true
   },
   "source": [
    "There are over 11,000 values; probably too many values for one-hot encoding.  \n",
    "\n",
    "Note that 'company_category_list' actually contains lists. We probably want to break these up to be thorough.  \n",
    "\n",
    "How much will this impact the feature count?\n"
   ]
  },
  {
   "cell_type": "markdown",
   "metadata": {},
   "source": [
    "'company_market' looks like 'company_category_list' but only one value. True? Is this the \"main\" category?"
   ]
  },
  {
   "cell_type": "code",
   "execution_count": null,
   "metadata": {
    "collapsed": true
   },
   "outputs": [],
   "source": [
    "a = investment_data['company_market'].value_counts()\n",
    "print('# categories: {}'.format(len(a)))\n",
    "a.sort_values(ascending=False).head(20)"
   ]
  },
  {
   "cell_type": "code",
   "execution_count": null,
   "metadata": {
    "collapsed": true
   },
   "outputs": [],
   "source": [
    "a = investment_data['company_country_code'].value_counts()\n",
    "print('# categories: {}'.format(len(a)))\n",
    "a.sort_values(ascending=False).head(20)"
   ]
  },
  {
   "cell_type": "code",
   "execution_count": null,
   "metadata": {
    "collapsed": true
   },
   "outputs": [],
   "source": [
    "a = investment_data['company_region'].value_counts()\n",
    "a.sort_values(ascending=False).head(20)"
   ]
  },
  {
   "cell_type": "code",
   "execution_count": null,
   "metadata": {
    "collapsed": true
   },
   "outputs": [],
   "source": [
    "for i in investment_data.columns:\n",
    "    a = investment_data[i].value_counts()\n",
    "    print('***',i)\n",
    "    print(a.sort_values(ascending=False).head(20),len(a),'\\n')"
   ]
  },
  {
   "cell_type": "code",
   "execution_count": null,
   "metadata": {
    "collapsed": true
   },
   "outputs": [],
   "source": [
    "keeplist = ['company_name',\n",
    "            'company_market',\n",
    "            'company_country_code',\n",
    "            'company_state_code',\n",
    "            'company_region',\n",
    "            'company_city',\n",
    "            'funding_round_type',\n",
    "            'funding_round_code',\n",
    "            'funded_at',\n",
    "            'funded_month',\n",
    "            'funded_quarter',\n",
    "            'funded_year',\n",
    "            'raised_amount_total_usd']\n",
    "invest_collapsed = investment_data[keeplist]"
   ]
  },
  {
   "cell_type": "code",
   "execution_count": null,
   "metadata": {
    "collapsed": true
   },
   "outputs": [],
   "source": [
    "non_num = [i for i in keeplist if i != 'raised_amount_total_usd']\n",
    "invest_collapsed = invest_collapsed.groupby(non_num).mean()"
   ]
  },
  {
   "cell_type": "code",
   "execution_count": null,
   "metadata": {
    "collapsed": true
   },
   "outputs": [],
   "source": [
    "invest_collapsed.iloc[1000:1050]"
   ]
  },
  {
   "cell_type": "code",
   "execution_count": null,
   "metadata": {
    "collapsed": true
   },
   "outputs": [],
   "source": [
    "import seaborn as sns"
   ]
  },
  {
   "cell_type": "code",
   "execution_count": null,
   "metadata": {
    "collapsed": true
   },
   "outputs": [],
   "source": [
    "sns.stripplot(x=\"company_country_code\", y=\"raised_amount_total_usd\", data=invest_sample,size=6);"
   ]
  },
  {
   "cell_type": "code",
   "execution_count": null,
   "metadata": {
    "collapsed": true
   },
   "outputs": [],
   "source": [
    "from matplotlib import pyplot as plt\n",
    "fig, ax = plt.subplots()\n",
    "# the size of A4 paper\n",
    "fig.set_size_inches(20,15)\n",
    "plt.gca().set_yscale('log')\n",
    "plt.xticks(rotation=90)\n",
    "g = sns.stripplot(x=\"company_country_code\", y=\"raised_amount_total_usd\", data=investment_data,size=6)\n"
   ]
  },
  {
   "cell_type": "code",
   "execution_count": null,
   "metadata": {
    "collapsed": true
   },
   "outputs": [],
   "source": [
    "pd.pivot_table(invest_sample,index='company_country_code')"
   ]
  },
  {
   "cell_type": "code",
   "execution_count": null,
   "metadata": {
    "collapsed": true
   },
   "outputs": [],
   "source": [
    "invest_fra = investment_data[investment_data['company_country_code']=='FRA']"
   ]
  },
  {
   "cell_type": "code",
   "execution_count": null,
   "metadata": {
    "collapsed": true
   },
   "outputs": [],
   "source": [
    "invest_fra = invest_fra[invest_fra['raised_amount_total_usd'].notnull()]\n",
    "invest_fra"
   ]
  },
  {
   "cell_type": "markdown",
   "metadata": {},
   "source": [
    "Drop investor data and drop duplicates"
   ]
  },
  {
   "cell_type": "code",
   "execution_count": null,
   "metadata": {
    "collapsed": true
   },
   "outputs": [],
   "source": [
    "invest_fra_no_investor = invest_fra[keeplist]\n",
    "invest_fra_no_investor.drop_duplicates(inplace=True)\n",
    "invest_fra_no_investor"
   ]
  },
  {
   "cell_type": "code",
   "execution_count": null,
   "metadata": {
    "collapsed": true
   },
   "outputs": [],
   "source": [
    "pd.set_option('display.max_columns',None)\n",
    "pd.pivot_table(invest_fra_no_investor, \n",
    "               index=['funded_year'],\n",
    "               columns=['company_region'],\n",
    "               values=['raised_amount_total_usd'],\n",
    "               fill_value=0)"
   ]
  },
  {
   "cell_type": "markdown",
   "metadata": {},
   "source": [
    "Get top 10 regions in France by sum of 'raised'"
   ]
  },
  {
   "cell_type": "code",
   "execution_count": null,
   "metadata": {
    "collapsed": true
   },
   "outputs": [],
   "source": [
    "top_regions_fr = list(pd.pivot_table(invest_fra_no_investor,\n",
    "               index=['company_region'],\n",
    "               values=['raised_amount_total_usd']).\n",
    "                 sort_values('raised_amount_total_usd',ascending=False).\n",
    "                 index.\n",
    "                 values[:10])"
   ]
  },
  {
   "cell_type": "code",
   "execution_count": null,
   "metadata": {
    "collapsed": true
   },
   "outputs": [],
   "source": [
    "fra_top = invest_fra_no_investor[invest_fra_no_investor['company_region'].isin(top_regions_fr)]"
   ]
  },
  {
   "cell_type": "code",
   "execution_count": null,
   "metadata": {
    "collapsed": true
   },
   "outputs": [],
   "source": [
    "fra_by_top_region = pd.pivot_table(fra_top, \n",
    "               index=['funded_year'],\n",
    "               columns=['company_region'],\n",
    "               values=['raised_amount_total_usd'],\n",
    "               fill_value=0)\n",
    "fra_by_top_region"
   ]
  },
  {
   "cell_type": "code",
   "execution_count": null,
   "metadata": {
    "collapsed": true
   },
   "outputs": [],
   "source": [
    "fig.set_size_inches(20,15)\n",
    "fra_by_top_region.plot()\n",
    "\n"
   ]
  },
  {
   "cell_type": "code",
   "execution_count": null,
   "metadata": {
    "collapsed": true
   },
   "outputs": [],
   "source": [
    "invest_no_investor = investment_data[keeplist]\n",
    "invest_no_investor = invest_no_investor.drop_duplicates()\n",
    "invest_no_investor"
   ]
  },
  {
   "cell_type": "code",
   "execution_count": null,
   "metadata": {
    "collapsed": true
   },
   "outputs": [],
   "source": [
    "for i in invest_no_investor.columns:\n",
    "    a = invest_no_investor[i].value_counts()\n",
    "    print('***',i)\n",
    "    print(a.sort_values(ascending=False).head(10))\n",
    "    print('# categories: {}'.format(len(a)),'\\n')"
   ]
  },
  {
   "cell_type": "code",
   "execution_count": null,
   "metadata": {
    "collapsed": true
   },
   "outputs": [],
   "source": [
    "from matplotlib import pyplot as plt\n",
    "fig, ax = plt.subplots()\n",
    "# the size of A4 paper\n",
    "fig.set_size_inches(20,15)\n",
    "plt.gca().set_yscale('log')\n",
    "plt.xticks(rotation=90)\n",
    "g = sns.stripplot(x=\"funded_year\", y=\"raised_amount_total_usd\", data=invest_no_investor,size=6)"
   ]
  },
  {
   "cell_type": "code",
   "execution_count": null,
   "metadata": {
    "collapsed": true
   },
   "outputs": [],
   "source": [
    "a=pd.DataFrame(invest_no_investor['company_name'].value_counts())\n",
    "print(type(a))\n",
    "print('columns: {}'.format(a.columns))\n",
    "a.sort_values(by='company_name').head(25)"
   ]
  },
  {
   "cell_type": "code",
   "execution_count": null,
   "metadata": {
    "collapsed": true
   },
   "outputs": [],
   "source": [
    "def univar(col):\n",
    "    display(Markdown('### {}'.format(col)))\n",
    "    a=pd.DataFrame(invest_no_investor[col].value_counts()).sort_values(by=col,ascending=False).head(25)\n",
    "    display(pd.DataFrame(a))\n",
    "    display(Markdown('Number of categories: {}'.format(len(invest_no_investor[col].value_counts()))))\n",
    "    nullfrac = pd.isnull(invest_no_investor[col]).value_counts()[False]/len(invest_no_investor)\n",
    "    nullfrac = round((1-nullfrac)*100,2)\n",
    "    display(Markdown('Percent missing: {}'.format(nullfrac)))\n",
    "    a.plot(logy = True,kind='bar',fontsize=12)\n",
    "    plt.title(col+ ' frequency',loc='left',fontsize=15)\n",
    "    plt.show()\n",
    "    print('\\n','\\n','\\n')\n",
    "    "
   ]
  },
  {
   "cell_type": "code",
   "execution_count": null,
   "metadata": {
    "collapsed": true
   },
   "outputs": [],
   "source": [
    "from IPython.display import display, Markdown\n",
    "display(pd.DataFrame(a))\n",
    "\n"
   ]
  },
  {
   "cell_type": "code",
   "execution_count": null,
   "metadata": {
    "collapsed": true
   },
   "outputs": [],
   "source": []
  },
  {
   "cell_type": "code",
   "execution_count": null,
   "metadata": {
    "collapsed": true
   },
   "outputs": [],
   "source": [
    "for i in invest_no_investor.columns:\n",
    "    display(Markdown(i))\n",
    "    "
   ]
  },
  {
   "cell_type": "code",
   "execution_count": null,
   "metadata": {
    "collapsed": true
   },
   "outputs": [],
   "source": [
    "categorical_vars = ['company_name','company_market','company_region','funding_round_type','funding_round_code']\n",
    "categorical_vars.append('funded_month')\n",
    "display(categorical_vars)"
   ]
  },
  {
   "cell_type": "code",
   "execution_count": null,
   "metadata": {
    "collapsed": true
   },
   "outputs": [],
   "source": [
    "time_vars = ['funded_at','funded_quarter','funded_year']"
   ]
  },
  {
   "cell_type": "code",
   "execution_count": null,
   "metadata": {
    "collapsed": true,
    "scrolled": true
   },
   "outputs": [],
   "source": [
    "for i in categorical_vars:\n",
    "    univar(i)"
   ]
  },
  {
   "cell_type": "markdown",
   "metadata": {},
   "source": [
    "What does it mean when a company has 14 investment events? Investigate companies with many funding events, eg Aviir:"
   ]
  },
  {
   "cell_type": "code",
   "execution_count": null,
   "metadata": {
    "collapsed": true
   },
   "outputs": [],
   "source": [
    "invest_no_investor[invest_no_investor['company_name']=='Aviir']"
   ]
  },
  {
   "cell_type": "markdown",
   "metadata": {},
   "source": [
    "It doesn't look like a data malfunction. Evidently, there can be many discrete funding events of the same type."
   ]
  },
  {
   "cell_type": "markdown",
   "metadata": {},
   "source": [
    "### Bivariate Analysis"
   ]
  },
  {
   "cell_type": "markdown",
   "metadata": {},
   "source": [
    "Next, let's do bivariate analysis using funding amount as the target"
   ]
  },
  {
   "cell_type": "markdown",
   "metadata": {},
   "source": [
    "Start with time series"
   ]
  },
  {
   "cell_type": "code",
   "execution_count": null,
   "metadata": {
    "collapsed": true
   },
   "outputs": [],
   "source": [
    "import numpy as np\n",
    "a = pd.pivot_table(invest_no_investor,\n",
    "               index = ['company_market'],\n",
    "               values = ['raised_amount_total_usd'],\n",
    "               aggfunc = [np.sum])\n"
   ]
  },
  {
   "cell_type": "code",
   "execution_count": null,
   "metadata": {
    "collapsed": true
   },
   "outputs": [],
   "source": [
    "from IPython.core.interactiveshell import InteractiveShell\n",
    "InteractiveShell.ast_node_interactivity = \"last\""
   ]
  },
  {
   "cell_type": "code",
   "execution_count": null,
   "metadata": {
    "collapsed": true
   },
   "outputs": [],
   "source": [
    "def bivar(col):\n",
    "    grouped = invest_no_investor['raised_amount_total_usd'].groupby(invest_no_investor[col])\n",
    "    a = grouped.sum()\n",
    "\n",
    "    #a.columns\n",
    "    b = a.sort_values(ascending = False).head(25)\n",
    "    display(pd.DataFrame(b))\n",
    "    display(Markdown('Number of categories: {}'.format(len(invest_no_investor[col].value_counts()))))\n",
    "    nullfrac = pd.isnull(invest_no_investor[col]).value_counts()[False]/len(invest_no_investor)\n",
    "    nullfrac = round((1-nullfrac)*100,2)\n",
    "    display(Markdown('Percent missing: {}'.format(nullfrac)))\n",
    "    b.plot(logy=True,kind='bar',fontsize=12)\n",
    "    plt.title('total funding ($) by '+col,loc='left',fontsize=15)\n",
    "    plt.show()\n",
    "    \n",
    "    "
   ]
  },
  {
   "cell_type": "code",
   "execution_count": null,
   "metadata": {
    "collapsed": true,
    "scrolled": true
   },
   "outputs": [],
   "source": [
    "for i in categorical_vars:\n",
    "\n",
    "    bivar(i)\n"
   ]
  },
  {
   "cell_type": "code",
   "execution_count": null,
   "metadata": {
    "collapsed": true,
    "scrolled": false
   },
   "outputs": [],
   "source": []
  },
  {
   "cell_type": "code",
   "execution_count": null,
   "metadata": {
    "collapsed": true
   },
   "outputs": [],
   "source": [
    "import matplotlib\n",
    "matplotlib.rcParams['figure.figsize'] = 14,8"
   ]
  },
  {
   "cell_type": "code",
   "execution_count": null,
   "metadata": {
    "collapsed": true
   },
   "outputs": [],
   "source": [
    "investment_data"
   ]
  },
  {
   "cell_type": "code",
   "execution_count": null,
   "metadata": {
    "collapsed": true
   },
   "outputs": [],
   "source": []
  },
  {
   "cell_type": "code",
   "execution_count": null,
   "metadata": {
    "collapsed": true
   },
   "outputs": [],
   "source": [
    "import pandasql"
   ]
  },
  {
   "cell_type": "code",
   "execution_count": null,
   "metadata": {
    "collapsed": true
   },
   "outputs": [],
   "source": []
  },
  {
   "cell_type": "code",
   "execution_count": null,
   "metadata": {
    "collapsed": true
   },
   "outputs": [],
   "source": []
  },
  {
   "cell_type": "code",
   "execution_count": null,
   "metadata": {
    "collapsed": true
   },
   "outputs": [],
   "source": []
  },
  {
   "cell_type": "code",
   "execution_count": null,
   "metadata": {
    "collapsed": true
   },
   "outputs": [],
   "source": []
  },
  {
   "cell_type": "code",
   "execution_count": null,
   "metadata": {
    "collapsed": true
   },
   "outputs": [],
   "source": []
  }
 ],
 "metadata": {
  "anaconda-cloud": {},
  "kernelspec": {
   "display_name": "Python [my_projects_env]",
   "language": "python",
   "name": "Python [my_projects_env]"
  },
  "language_info": {
   "codemirror_mode": {
    "name": "ipython",
    "version": 3
   },
   "file_extension": ".py",
   "mimetype": "text/x-python",
   "name": "python",
   "nbconvert_exporter": "python",
   "pygments_lexer": "ipython3",
   "version": "3.6.1"
  }
 },
 "nbformat": 4,
 "nbformat_minor": 1
}
